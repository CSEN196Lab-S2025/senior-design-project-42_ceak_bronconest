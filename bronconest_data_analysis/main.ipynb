{
 "cells": [
  {
   "cell_type": "markdown",
   "id": "a0347def",
   "metadata": {},
   "source": [
    "# Imports"
   ]
  },
  {
   "cell_type": "code",
   "execution_count": 21,
   "id": "cec17f5b",
   "metadata": {},
   "outputs": [],
   "source": [
    "import pandas as pd\n",
    "import matplotlib.pyplot as plt\n",
    "import matplotlib.ticker as mticker\n",
    "import numpy as np"
   ]
  },
  {
   "cell_type": "markdown",
   "id": "8b2f963d",
   "metadata": {},
   "source": [
    "# Data Setup"
   ]
  },
  {
   "cell_type": "code",
   "execution_count": 22,
   "id": "849d9b83",
   "metadata": {},
   "outputs": [
    {
     "data": {
      "application/vnd.microsoft.datawrangler.viewer.v0+json": {
       "columns": [
        {
         "name": "index",
         "rawType": "int64",
         "type": "integer"
        },
        {
         "name": "Academic Year",
         "rawType": "object",
         "type": "string"
        },
        {
         "name": "Dorm",
         "rawType": "object",
         "type": "string"
        },
        {
         "name": "Review",
         "rawType": "object",
         "type": "string"
        },
        {
         "name": "Walkability",
         "rawType": "int64",
         "type": "integer"
        },
        {
         "name": "Cleanliness",
         "rawType": "int64",
         "type": "integer"
        },
        {
         "name": "Quietness",
         "rawType": "int64",
         "type": "integer"
        },
        {
         "name": "Comfort",
         "rawType": "int64",
         "type": "integer"
        },
        {
         "name": "Safety",
         "rawType": "int64",
         "type": "integer"
        },
        {
         "name": "Amenities",
         "rawType": "int64",
         "type": "integer"
        },
        {
         "name": "Community",
         "rawType": "int64",
         "type": "integer"
        },
        {
         "name": "Additional Comments",
         "rawType": "object",
         "type": "unknown"
        }
       ],
       "conversionMethod": "pd.DataFrame",
       "ref": "7d53632c-1190-4363-aac1-a9666a16ad3f",
       "rows": [
        [
         "0",
         "Freshman",
         "Graham (Alpha RLC)",
         "Not the most social dorm, but the people, location, and staff are amazing. Wouldn't want to live anywhere else!",
         "10",
         "10",
         "10",
         "10",
         "9",
         "9",
         "6",
         null
        ],
        [
         "1",
         "Freshman",
         "Casa Italiana (da Vinci RLC)",
         "Overall, I enjoyed living at Casa. Although it was a little far from my classes, the peace/silence was worth it- especially at night. We had some issues with water/plumbing at the beginning of the year which took a while to resolve with housing but it wasn't terrible in the end. ",
         "3",
         "10",
         "10",
         "10",
         "10",
         "9",
         "8",
         null
        ],
        [
         "2",
         "Freshman",
         "Graham (Alpha RLC)",
         "Overall was a good dorm with huge rooms and quick access to everywhere on campus. The one thing was that the dorm was super quiet, like I never saw anyone in the lounges or kitchen.",
         "10",
         "9",
         "10",
         "9",
         "9",
         "8",
         "2",
         null
        ],
        [
         "3",
         "Sophomore",
         "Nobili (Unity RLC)",
         "Definitely the largest and nicest dorms on campus. But they are a little more pricey, a little old, and was super quiet but if your whole friend group is able to get the rooms, it's worth it.",
         "4",
         "9",
         "10",
         "10",
         "8",
         "5",
         "1",
         null
        ],
        [
         "4",
         "Freshman",
         "Sobrato (Loyola RLC)",
         "goated",
         "8",
         "9",
         "9",
         "9",
         "9",
         "8",
         "8",
         null
        ]
       ],
       "shape": {
        "columns": 11,
        "rows": 5
       }
      },
      "text/html": [
       "<div>\n",
       "<style scoped>\n",
       "    .dataframe tbody tr th:only-of-type {\n",
       "        vertical-align: middle;\n",
       "    }\n",
       "\n",
       "    .dataframe tbody tr th {\n",
       "        vertical-align: top;\n",
       "    }\n",
       "\n",
       "    .dataframe thead th {\n",
       "        text-align: right;\n",
       "    }\n",
       "</style>\n",
       "<table border=\"1\" class=\"dataframe\">\n",
       "  <thead>\n",
       "    <tr style=\"text-align: right;\">\n",
       "      <th></th>\n",
       "      <th>Academic Year</th>\n",
       "      <th>Dorm</th>\n",
       "      <th>Review</th>\n",
       "      <th>Walkability</th>\n",
       "      <th>Cleanliness</th>\n",
       "      <th>Quietness</th>\n",
       "      <th>Comfort</th>\n",
       "      <th>Safety</th>\n",
       "      <th>Amenities</th>\n",
       "      <th>Community</th>\n",
       "      <th>Additional Comments</th>\n",
       "    </tr>\n",
       "  </thead>\n",
       "  <tbody>\n",
       "    <tr>\n",
       "      <th>0</th>\n",
       "      <td>Freshman</td>\n",
       "      <td>Graham (Alpha RLC)</td>\n",
       "      <td>Not the most social dorm, but the people, loca...</td>\n",
       "      <td>10</td>\n",
       "      <td>10</td>\n",
       "      <td>10</td>\n",
       "      <td>10</td>\n",
       "      <td>9</td>\n",
       "      <td>9</td>\n",
       "      <td>6</td>\n",
       "      <td>NaN</td>\n",
       "    </tr>\n",
       "    <tr>\n",
       "      <th>1</th>\n",
       "      <td>Freshman</td>\n",
       "      <td>Casa Italiana (da Vinci RLC)</td>\n",
       "      <td>Overall, I enjoyed living at Casa. Although it...</td>\n",
       "      <td>3</td>\n",
       "      <td>10</td>\n",
       "      <td>10</td>\n",
       "      <td>10</td>\n",
       "      <td>10</td>\n",
       "      <td>9</td>\n",
       "      <td>8</td>\n",
       "      <td>NaN</td>\n",
       "    </tr>\n",
       "    <tr>\n",
       "      <th>2</th>\n",
       "      <td>Freshman</td>\n",
       "      <td>Graham (Alpha RLC)</td>\n",
       "      <td>Overall was a good dorm with huge rooms and qu...</td>\n",
       "      <td>10</td>\n",
       "      <td>9</td>\n",
       "      <td>10</td>\n",
       "      <td>9</td>\n",
       "      <td>9</td>\n",
       "      <td>8</td>\n",
       "      <td>2</td>\n",
       "      <td>NaN</td>\n",
       "    </tr>\n",
       "    <tr>\n",
       "      <th>3</th>\n",
       "      <td>Sophomore</td>\n",
       "      <td>Nobili (Unity RLC)</td>\n",
       "      <td>Definitely the largest and nicest dorms on cam...</td>\n",
       "      <td>4</td>\n",
       "      <td>9</td>\n",
       "      <td>10</td>\n",
       "      <td>10</td>\n",
       "      <td>8</td>\n",
       "      <td>5</td>\n",
       "      <td>1</td>\n",
       "      <td>NaN</td>\n",
       "    </tr>\n",
       "    <tr>\n",
       "      <th>4</th>\n",
       "      <td>Freshman</td>\n",
       "      <td>Sobrato (Loyola RLC)</td>\n",
       "      <td>goated</td>\n",
       "      <td>8</td>\n",
       "      <td>9</td>\n",
       "      <td>9</td>\n",
       "      <td>9</td>\n",
       "      <td>9</td>\n",
       "      <td>8</td>\n",
       "      <td>8</td>\n",
       "      <td>NaN</td>\n",
       "    </tr>\n",
       "  </tbody>\n",
       "</table>\n",
       "</div>"
      ],
      "text/plain": [
       "  Academic Year                          Dorm  \\\n",
       "0      Freshman            Graham (Alpha RLC)   \n",
       "1      Freshman  Casa Italiana (da Vinci RLC)   \n",
       "2      Freshman            Graham (Alpha RLC)   \n",
       "3     Sophomore            Nobili (Unity RLC)   \n",
       "4      Freshman          Sobrato (Loyola RLC)   \n",
       "\n",
       "                                              Review  Walkability  \\\n",
       "0  Not the most social dorm, but the people, loca...           10   \n",
       "1  Overall, I enjoyed living at Casa. Although it...            3   \n",
       "2  Overall was a good dorm with huge rooms and qu...           10   \n",
       "3  Definitely the largest and nicest dorms on cam...            4   \n",
       "4                                             goated            8   \n",
       "\n",
       "   Cleanliness  Quietness  Comfort  Safety  Amenities  Community  \\\n",
       "0           10         10       10       9          9          6   \n",
       "1           10         10       10      10          9          8   \n",
       "2            9         10        9       9          8          2   \n",
       "3            9         10       10       8          5          1   \n",
       "4            9          9        9       9          8          8   \n",
       "\n",
       "  Additional Comments  \n",
       "0                 NaN  \n",
       "1                 NaN  \n",
       "2                 NaN  \n",
       "3                 NaN  \n",
       "4                 NaN  "
      ]
     },
     "execution_count": 22,
     "metadata": {},
     "output_type": "execute_result"
    }
   ],
   "source": [
    "df: pd.DataFrame = pd.read_csv(r\"./data.csv\")\n",
    "\n",
    "df.head()"
   ]
  },
  {
   "cell_type": "code",
   "execution_count": 23,
   "id": "7979c125",
   "metadata": {},
   "outputs": [
    {
     "data": {
      "image/png": "[encoded data removed]",
      "text/plain": [
       "<Figure size 840x720 with 1 Axes>"
      ]
     },
     "metadata": {},
     "output_type": "display_data"
    }
   ],
   "source": [
    "review_metrics: list[str] = [\"Walkability\", \"Cleanliness\", \"Quietness\", \"Comfort\", \"Safety\", \"Amenities\", \"Community\"]\n",
    "\n",
    "\n",
    "fig, ax = plt.subplots(figsize=(7, 6), dpi=120)\n",
    "\n",
    "# order by median\n",
    "order = df[review_metrics].median().sort_values(ascending=False).index\n",
    "\n",
    "df[order].plot.box(\n",
    "    ax = ax,\n",
    "    vert = False,\n",
    "    patch_artist = True,\n",
    "    showmeans = True,\n",
    "    boxprops = dict(facecolor=\"#cfe2f3\", linewidth=1.3, alpha=.8),\n",
    "    medianprops = dict(color=\"#1d3557\", linewidth=2),\n",
    "    meanprops = dict(marker='D', markersize=6, markerfacecolor='limegreen', markeredgecolor='black'),\n",
    "    flierprops = dict(marker='o', markersize=4, markerfacecolor=\"#e63946\", alpha=0.5)\n",
    ")\n",
    "\n",
    "# major ticks every 1\n",
    "ax.xaxis.set_major_locator(mticker.MultipleLocator(1))\n",
    "\n",
    "# minor ticks every 0.5\n",
    "ax.xaxis.set_minor_locator(mticker.AutoMinorLocator(2))\n",
    "ax.tick_params(axis='x', which='minor', length=4, width=0.8)\n",
    "\n",
    "ax.grid(axis='x', which='minor', linestyle=':', alpha=.25)\n",
    "\n",
    "ax.set_xlabel(\"Rating (1-10)\")\n",
    "ax.set_ylabel(\"\")\n",
    "ax.set_title(\"SCU RLC (Dorm) Review Metrics - Student Survey\", fontsize=14, weight='bold', pad=15)\n",
    "\n",
    "ax.set_yticklabels(order, fontsize=11)\n",
    "ax.xaxis.grid(True, linestyle='--', alpha=.4)\n",
    "\n",
    "plt.tight_layout()\n",
    "plt.show()"
   ]
  },
  {
   "cell_type": "code",
   "execution_count": 24,
   "id": "9bc9c2e4",
   "metadata": {},
   "outputs": [
    {
     "data": {
      "application/vnd.microsoft.datawrangler.viewer.v0+json": {
       "columns": [
        {
         "name": "index",
         "rawType": "object",
         "type": "string"
        },
        {
         "name": "Walkability",
         "rawType": "float64",
         "type": "float"
        },
        {
         "name": "Cleanliness",
         "rawType": "float64",
         "type": "float"
        },
        {
         "name": "Quietness",
         "rawType": "float64",
         "type": "float"
        },
        {
         "name": "Comfort",
         "rawType": "float64",
         "type": "float"
        },
        {
         "name": "Safety",
         "rawType": "float64",
         "type": "float"
        },
        {
         "name": "Amenities",
         "rawType": "float64",
         "type": "float"
        },
        {
         "name": "Community",
         "rawType": "float64",
         "type": "float"
        }
       ],
       "conversionMethod": "pd.DataFrame",
       "ref": "0e0e892c-0d77-4d90-b15c-7b3ef22b3c2e",
       "rows": [
        [
         "count",
         "51.0",
         "51.0",
         "51.0",
         "51.0",
         "51.0",
         "51.0",
         "51.0"
        ],
        [
         "mean",
         "7.333333333333333",
         "7.509803921568627",
         "7.490196078431373",
         "7.784313725490196",
         "8.215686274509803",
         "6.666666666666667",
         "6.2745098039215685"
        ],
        [
         "std",
         "1.935630818794397",
         "2.0334458342390915",
         "2.0530226401051483",
         "1.8034824700029226",
         "1.527268483144939",
         "1.986621923433512",
         "2.561862067891626"
        ],
        [
         "min",
         "3.0",
         "2.0",
         "2.0",
         "3.0",
         "4.0",
         "2.0",
         "1.0"
        ],
        [
         "25%",
         "6.0",
         "7.0",
         "6.0",
         "6.5",
         "8.0",
         "6.0",
         "4.5"
        ],
        [
         "50%",
         "8.0",
         "8.0",
         "8.0",
         "8.0",
         "9.0",
         "7.0",
         "6.0"
        ],
        [
         "75%",
         "8.5",
         "9.0",
         "9.0",
         "9.0",
         "9.0",
         "8.0",
         "8.5"
        ],
        [
         "max",
         "10.0",
         "10.0",
         "10.0",
         "10.0",
         "10.0",
         "10.0",
         "10.0"
        ]
       ],
       "shape": {
        "columns": 7,
        "rows": 8
       }
      },
      "text/html": [
       "<div>\n",
       "<style scoped>\n",
       "    .dataframe tbody tr th:only-of-type {\n",
       "        vertical-align: middle;\n",
       "    }\n",
       "\n",
       "    .dataframe tbody tr th {\n",
       "        vertical-align: top;\n",
       "    }\n",
       "\n",
       "    .dataframe thead th {\n",
       "        text-align: right;\n",
       "    }\n",
       "</style>\n",
       "<table border=\"1\" class=\"dataframe\">\n",
       "  <thead>\n",
       "    <tr style=\"text-align: right;\">\n",
       "      <th></th>\n",
       "      <th>Walkability</th>\n",
       "      <th>Cleanliness</th>\n",
       "      <th>Quietness</th>\n",
       "      <th>Comfort</th>\n",
       "      <th>Safety</th>\n",
       "      <th>Amenities</th>\n",
       "      <th>Community</th>\n",
       "    </tr>\n",
       "  </thead>\n",
       "  <tbody>\n",
       "    <tr>\n",
       "      <th>count</th>\n",
       "      <td>51.000000</td>\n",
       "      <td>51.000000</td>\n",
       "      <td>51.000000</td>\n",
       "      <td>51.000000</td>\n",
       "      <td>51.000000</td>\n",
       "      <td>51.000000</td>\n",
       "      <td>51.000000</td>\n",
       "    </tr>\n",
       "    <tr>\n",
       "      <th>mean</th>\n",
       "      <td>7.333333</td>\n",
       "      <td>7.509804</td>\n",
       "      <td>7.490196</td>\n",
       "      <td>7.784314</td>\n",
       "      <td>8.215686</td>\n",
       "      <td>6.666667</td>\n",
       "      <td>6.274510</td>\n",
       "    </tr>\n",
       "    <tr>\n",
       "      <th>std</th>\n",
       "      <td>1.935631</td>\n",
       "      <td>2.033446</td>\n",
       "      <td>2.053023</td>\n",
       "      <td>1.803482</td>\n",
       "      <td>1.527268</td>\n",
       "      <td>1.986622</td>\n",
       "      <td>2.561862</td>\n",
       "    </tr>\n",
       "    <tr>\n",
       "      <th>min</th>\n",
       "      <td>3.000000</td>\n",
       "      <td>2.000000</td>\n",
       "      <td>2.000000</td>\n",
       "      <td>3.000000</td>\n",
       "      <td>4.000000</td>\n",
       "      <td>2.000000</td>\n",
       "      <td>1.000000</td>\n",
       "    </tr>\n",
       "    <tr>\n",
       "      <th>25%</th>\n",
       "      <td>6.000000</td>\n",
       "      <td>7.000000</td>\n",
       "      <td>6.000000</td>\n",
       "      <td>6.500000</td>\n",
       "      <td>8.000000</td>\n",
       "      <td>6.000000</td>\n",
       "      <td>4.500000</td>\n",
       "    </tr>\n",
       "    <tr>\n",
       "      <th>50%</th>\n",
       "      <td>8.000000</td>\n",
       "      <td>8.000000</td>\n",
       "      <td>8.000000</td>\n",
       "      <td>8.000000</td>\n",
       "      <td>9.000000</td>\n",
       "      <td>7.000000</td>\n",
       "      <td>6.000000</td>\n",
       "    </tr>\n",
       "    <tr>\n",
       "      <th>75%</th>\n",
       "      <td>8.500000</td>\n",
       "      <td>9.000000</td>\n",
       "      <td>9.000000</td>\n",
       "      <td>9.000000</td>\n",
       "      <td>9.000000</td>\n",
       "      <td>8.000000</td>\n",
       "      <td>8.500000</td>\n",
       "    </tr>\n",
       "    <tr>\n",
       "      <th>max</th>\n",
       "      <td>10.000000</td>\n",
       "      <td>10.000000</td>\n",
       "      <td>10.000000</td>\n",
       "      <td>10.000000</td>\n",
       "      <td>10.000000</td>\n",
       "      <td>10.000000</td>\n",
       "      <td>10.000000</td>\n",
       "    </tr>\n",
       "  </tbody>\n",
       "</table>\n",
       "</div>"
      ],
      "text/plain": [
       "       Walkability  Cleanliness  Quietness    Comfort     Safety  Amenities  \\\n",
       "count    51.000000    51.000000  51.000000  51.000000  51.000000  51.000000   \n",
       "mean      7.333333     7.509804   7.490196   7.784314   8.215686   6.666667   \n",
       "std       1.935631     2.033446   2.053023   1.803482   1.527268   1.986622   \n",
       "min       3.000000     2.000000   2.000000   3.000000   4.000000   2.000000   \n",
       "25%       6.000000     7.000000   6.000000   6.500000   8.000000   6.000000   \n",
       "50%       8.000000     8.000000   8.000000   8.000000   9.000000   7.000000   \n",
       "75%       8.500000     9.000000   9.000000   9.000000   9.000000   8.000000   \n",
       "max      10.000000    10.000000  10.000000  10.000000  10.000000  10.000000   \n",
       "\n",
       "       Community  \n",
       "count  51.000000  \n",
       "mean    6.274510  \n",
       "std     2.561862  \n",
       "min     1.000000  \n",
       "25%     4.500000  \n",
       "50%     6.000000  \n",
       "75%     8.500000  \n",
       "max    10.000000  "
      ]
     },
     "execution_count": 24,
     "metadata": {},
     "output_type": "execute_result"
    }
   ],
   "source": [
    "df.describe()"
   ]
  }
 ],
 "metadata": {
  "kernelspec": {
   "display_name": ".venv",
   "language": "python",
   "name": "python3"
  },
  "language_info": {
   "codemirror_mode": {
    "name": "ipython",
    "version": 3
   },
   "file_extension": ".py",
   "mimetype": "text/x-python",
   "name": "python",
   "nbconvert_exporter": "python",
   "pygments_lexer": "ipython3",
   "version": "3.12.4"
  }
 },
 "nbformat": 4,
 "nbformat_minor": 5
}
